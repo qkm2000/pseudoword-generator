{
 "cells": [
  {
   "cell_type": "markdown",
   "metadata": {},
   "source": [
    "# Design"
   ]
  },
  {
   "cell_type": "markdown",
   "metadata": {},
   "source": [
    "This is an decoder model which will take in a roundness value and output a pseudoword that corresponds to the roundness value"
   ]
  },
  {
   "cell_type": "code",
   "execution_count": 1,
   "metadata": {},
   "outputs": [
    {
     "name": "stderr",
     "output_type": "stream",
     "text": [
      "c:\\Users\\qkm20\\anaconda3\\envs\\pseudoword\\Lib\\site-packages\\tqdm\\auto.py:21: TqdmWarning: IProgress not found. Please update jupyter and ipywidgets. See https://ipywidgets.readthedocs.io/en/stable/user_install.html\n",
      "  from .autonotebook import tqdm as notebook_tqdm\n"
     ]
    }
   ],
   "source": [
    "from utils.pseudoword_generator import *\n",
    "import pandas as pd\n",
    "import torch\n",
    "\n",
    "pd.set_option('display.max_columns', None)\n",
    "device = \"cuda\" if torch.cuda.is_available() else \"cpu\"\n",
    "state = 42\n",
    "\n",
    "VERSION = 3"
   ]
  },
  {
   "cell_type": "markdown",
   "metadata": {},
   "source": [
    "# Dataset"
   ]
  },
  {
   "cell_type": "code",
   "execution_count": 2,
   "metadata": {},
   "outputs": [
    {
     "data": {
      "text/html": [
       "<div>\n",
       "<style scoped>\n",
       "    .dataframe tbody tr th:only-of-type {\n",
       "        vertical-align: middle;\n",
       "    }\n",
       "\n",
       "    .dataframe tbody tr th {\n",
       "        vertical-align: top;\n",
       "    }\n",
       "\n",
       "    .dataframe thead th {\n",
       "        text-align: right;\n",
       "    }\n",
       "</style>\n",
       "<table border=\"1\" class=\"dataframe\">\n",
       "  <thead>\n",
       "    <tr style=\"text-align: right;\">\n",
       "      <th></th>\n",
       "      <th>Pseudoword</th>\n",
       "      <th>Roundness</th>\n",
       "    </tr>\n",
       "  </thead>\n",
       "  <tbody>\n",
       "    <tr>\n",
       "      <th>0</th>\n",
       "      <td>kineratote</td>\n",
       "      <td>0.150207</td>\n",
       "    </tr>\n",
       "    <tr>\n",
       "      <th>1</th>\n",
       "      <td>rutsusajibo</td>\n",
       "      <td>0.110635</td>\n",
       "    </tr>\n",
       "    <tr>\n",
       "      <th>2</th>\n",
       "      <td>neza</td>\n",
       "      <td>0.468633</td>\n",
       "    </tr>\n",
       "    <tr>\n",
       "      <th>3</th>\n",
       "      <td>poutano</td>\n",
       "      <td>0.326936</td>\n",
       "    </tr>\n",
       "    <tr>\n",
       "      <th>4</th>\n",
       "      <td>uyoshipasu</td>\n",
       "      <td>0.131503</td>\n",
       "    </tr>\n",
       "    <tr>\n",
       "      <th>...</th>\n",
       "      <td>...</td>\n",
       "      <td>...</td>\n",
       "    </tr>\n",
       "    <tr>\n",
       "      <th>9995</th>\n",
       "      <td>gechigapaba</td>\n",
       "      <td>0.077712</td>\n",
       "    </tr>\n",
       "    <tr>\n",
       "      <th>9996</th>\n",
       "      <td>ragi</td>\n",
       "      <td>0.351221</td>\n",
       "    </tr>\n",
       "    <tr>\n",
       "      <th>9997</th>\n",
       "      <td>mugugo</td>\n",
       "      <td>0.234996</td>\n",
       "    </tr>\n",
       "    <tr>\n",
       "      <th>9998</th>\n",
       "      <td>rureto</td>\n",
       "      <td>0.280292</td>\n",
       "    </tr>\n",
       "    <tr>\n",
       "      <th>9999</th>\n",
       "      <td>miramaupi</td>\n",
       "      <td>0.089597</td>\n",
       "    </tr>\n",
       "  </tbody>\n",
       "</table>\n",
       "<p>10000 rows × 2 columns</p>\n",
       "</div>"
      ],
      "text/plain": [
       "       Pseudoword  Roundness\n",
       "0      kineratote   0.150207\n",
       "1     rutsusajibo   0.110635\n",
       "2            neza   0.468633\n",
       "3         poutano   0.326936\n",
       "4      uyoshipasu   0.131503\n",
       "...           ...        ...\n",
       "9995  gechigapaba   0.077712\n",
       "9996         ragi   0.351221\n",
       "9997       mugugo   0.234996\n",
       "9998       rureto   0.280292\n",
       "9999    miramaupi   0.089597\n",
       "\n",
       "[10000 rows x 2 columns]"
      ]
     },
     "execution_count": 2,
     "metadata": {},
     "output_type": "execute_result"
    }
   ],
   "source": [
    "# Import dataset\n",
    "\n",
    "data = pd.read_csv('datasets/japanese_pseudowords.csv')\n",
    "data"
   ]
  },
  {
   "cell_type": "code",
   "execution_count": 3,
   "metadata": {},
   "outputs": [
    {
     "data": {
      "text/html": [
       "<div>\n",
       "<style scoped>\n",
       "    .dataframe tbody tr th:only-of-type {\n",
       "        vertical-align: middle;\n",
       "    }\n",
       "\n",
       "    .dataframe tbody tr th {\n",
       "        vertical-align: top;\n",
       "    }\n",
       "\n",
       "    .dataframe thead th {\n",
       "        text-align: right;\n",
       "    }\n",
       "</style>\n",
       "<table border=\"1\" class=\"dataframe\">\n",
       "  <thead>\n",
       "    <tr style=\"text-align: right;\">\n",
       "      <th></th>\n",
       "      <th>Roundness</th>\n",
       "    </tr>\n",
       "  </thead>\n",
       "  <tbody>\n",
       "    <tr>\n",
       "      <th>count</th>\n",
       "      <td>10000.000000</td>\n",
       "    </tr>\n",
       "    <tr>\n",
       "      <th>mean</th>\n",
       "      <td>0.259523</td>\n",
       "    </tr>\n",
       "    <tr>\n",
       "      <th>std</th>\n",
       "      <td>0.196518</td>\n",
       "    </tr>\n",
       "    <tr>\n",
       "      <th>min</th>\n",
       "      <td>0.038889</td>\n",
       "    </tr>\n",
       "    <tr>\n",
       "      <th>25%</th>\n",
       "      <td>0.090111</td>\n",
       "    </tr>\n",
       "    <tr>\n",
       "      <th>50%</th>\n",
       "      <td>0.248405</td>\n",
       "    </tr>\n",
       "    <tr>\n",
       "      <th>75%</th>\n",
       "      <td>0.345424</td>\n",
       "    </tr>\n",
       "    <tr>\n",
       "      <th>max</th>\n",
       "      <td>0.860149</td>\n",
       "    </tr>\n",
       "  </tbody>\n",
       "</table>\n",
       "</div>"
      ],
      "text/plain": [
       "          Roundness\n",
       "count  10000.000000\n",
       "mean       0.259523\n",
       "std        0.196518\n",
       "min        0.038889\n",
       "25%        0.090111\n",
       "50%        0.248405\n",
       "75%        0.345424\n",
       "max        0.860149"
      ]
     },
     "execution_count": 3,
     "metadata": {},
     "output_type": "execute_result"
    }
   ],
   "source": [
    "data.describe()"
   ]
  },
  {
   "cell_type": "code",
   "execution_count": 4,
   "metadata": {},
   "outputs": [],
   "source": [
    "# Split data into train, val and test sets\n",
    "\n",
    "trn = data.sample(frac=0.8, random_state=state)\n",
    "val = data.drop(trn.index).sample(frac=0.5, random_state=state)\n",
    "tst = data.drop(trn.index).drop(val.index)\n",
    "trn.reset_index(inplace=True, drop=True)\n",
    "val.reset_index(inplace=True, drop=True)\n",
    "tst.reset_index(inplace=True, drop=True)"
   ]
  },
  {
   "cell_type": "code",
   "execution_count": 5,
   "metadata": {},
   "outputs": [
    {
     "name": "stdout",
     "output_type": "stream",
     "text": [
      "Train set: 8000 samples, Validation set: 1000 samples, Test set: 1000 samples\n"
     ]
    }
   ],
   "source": [
    "print(f\"Train set: {len(trn)} samples, Validation set: {len(val)} samples, Test set: {len(tst)} samples\")"
   ]
  },
  {
   "cell_type": "markdown",
   "metadata": {},
   "source": [
    "# Model"
   ]
  },
  {
   "cell_type": "code",
   "execution_count": 6,
   "metadata": {},
   "outputs": [],
   "source": [
    "model = RoundnessToTextModel(\n",
    "    t5_model_name=\"sonoisa/t5-base-japanese\",\n",
    "    freeze_t5=False,\n",
    "    hidden_dim=256,\n",
    "    output_dim=768,\n",
    "    device=\"cuda\" if torch.cuda.is_available() else \"cpu\",\n",
    ")"
   ]
  },
  {
   "cell_type": "code",
   "execution_count": 7,
   "metadata": {},
   "outputs": [],
   "source": [
    "# optimizer = torch.optim.Adam(model.parameters(), lr=0.001)\n",
    "optimizer = torch.optim.AdamW(model.parameters(), lr=0.001)\n",
    "scheduler = torch.optim.lr_scheduler.StepLR(optimizer, step_size=3, gamma=0.6)"
   ]
  },
  {
   "cell_type": "markdown",
   "metadata": {},
   "source": [
    "# Training"
   ]
  },
  {
   "cell_type": "code",
   "execution_count": 8,
   "metadata": {},
   "outputs": [
    {
     "name": "stderr",
     "output_type": "stream",
     "text": [
      "Passing a tuple of `past_key_values` is deprecated and will be removed in Transformers v4.48.0. You should pass an instance of `EncoderDecoderCache` instead, e.g. `past_key_values=EncoderDecoderCache.from_legacy_cache(past_key_values)`.\n"
     ]
    },
    {
     "name": "stdout",
     "output_type": "stream",
     "text": [
      "Epoch   1/100, Train Loss: 8.3036, Validation Loss: 3.4454\n",
      "Epoch   2/100, Train Loss: 3.5977, Validation Loss: 3.5512\n",
      "Epoch   3/100, Train Loss: 3.4606, Validation Loss: 3.9083\n",
      "Epoch   4/100, Train Loss: 3.4155, Validation Loss: 3.7888\n",
      "Epoch   5/100, Train Loss: 3.3886, Validation Loss: 3.5334\n",
      "Epoch   6/100, Train Loss: 3.3750, Validation Loss: 3.7611\n",
      "Epoch   7/100, Train Loss: 3.3519, Validation Loss: 3.2878\n",
      "Epoch   8/100, Train Loss: 3.3491, Validation Loss: 3.4796\n",
      "Epoch   9/100, Train Loss: 3.3303, Validation Loss: 3.6421\n",
      "Epoch  10/100, Train Loss: 3.3156, Validation Loss: 3.4321\n",
      "Epoch  11/100, Train Loss: 3.3038, Validation Loss: 3.4214\n",
      "Epoch  12/100, Train Loss: 3.2994, Validation Loss: 3.3588\n",
      "Epoch  13/100, Train Loss: 3.2885, Validation Loss: 3.3995\n",
      "Epoch  14/100, Train Loss: 3.2872, Validation Loss: 3.3068\n",
      "Epoch  15/100, Train Loss: 3.2839, Validation Loss: 3.2702\n",
      "Epoch  16/100, Train Loss: 3.2706, Validation Loss: 3.2060\n",
      "Epoch  17/100, Train Loss: 3.2688, Validation Loss: 3.2654\n",
      "Epoch  18/100, Train Loss: 3.2693, Validation Loss: 3.3054\n",
      "Epoch  19/100, Train Loss: 3.2642, Validation Loss: 3.1970\n",
      "Epoch  20/100, Train Loss: 3.2596, Validation Loss: 3.1944\n",
      "Epoch  21/100, Train Loss: 3.2547, Validation Loss: 3.1988\n",
      "Epoch  22/100, Train Loss: 3.2522, Validation Loss: 3.1882\n",
      "Epoch  23/100, Train Loss: 3.2538, Validation Loss: 3.1868\n",
      "Epoch  24/100, Train Loss: 3.2458, Validation Loss: 3.1856\n",
      "Epoch  25/100, Train Loss: 3.2483, Validation Loss: 3.1897\n",
      "Epoch  26/100, Train Loss: 3.2466, Validation Loss: 3.1924\n",
      "Epoch  27/100, Train Loss: 3.2410, Validation Loss: 3.1913\n",
      "Epoch  28/100, Train Loss: 3.2445, Validation Loss: 3.1923\n",
      "Epoch  29/100, Train Loss: 3.2400, Validation Loss: 3.1863\n",
      "Epoch  30/100, Train Loss: 3.2430, Validation Loss: 3.1860\n",
      "Epoch  31/100, Train Loss: 3.2400, Validation Loss: 3.1869\n",
      "Epoch  32/100, Train Loss: 3.2409, Validation Loss: 3.1864\n",
      "Epoch  33/100, Train Loss: 3.2399, Validation Loss: 3.1859\n",
      "Epoch  34/100, Train Loss: 3.2374, Validation Loss: 3.1867\n",
      "Early stopping triggered after 34 epochs\n",
      "Test Loss: 3.2194\n"
     ]
    }
   ],
   "source": [
    "train(\n",
    "    model=model,\n",
    "    optimizer=optimizer,\n",
    "    trn_roundness=trn[\"Roundness\"],\n",
    "    val_roundness=val[\"Roundness\"],\n",
    "    tst_roundness=tst[\"Roundness\"],\n",
    "    trn_texts=trn[\"Pseudoword\"],\n",
    "    val_texts=val[\"Pseudoword\"],\n",
    "    tst_texts=tst[\"Pseudoword\"],\n",
    "    batch_size=min(len(val), 100),\n",
    "    epochs=100,\n",
    "    patience=10,\n",
    "    scheduler=scheduler,\n",
    ")"
   ]
  },
  {
   "cell_type": "markdown",
   "metadata": {},
   "source": [
    "# Testing"
   ]
  },
  {
   "cell_type": "code",
   "execution_count": 9,
   "metadata": {},
   "outputs": [
    {
     "name": "stdout",
     "output_type": "stream",
     "text": [
      "Roundness Value : 0.047891214\n",
      "Original Word   : guidopen\n",
      "Predicted word  : daniperu\n",
      "\n",
      "Roundness Value : 0.3033671\n",
      "Original Word   : kamuyo\n",
      "Predicted word  : topopo\n",
      "\n",
      "Roundness Value : 0.060305737\n",
      "Original Word   : yudozoke\n",
      "Predicted word  : shifuchiru\n",
      "\n",
      "Roundness Value : 0.31320328\n",
      "Original Word   : kafu\n",
      "Predicted word  : kake\n",
      "\n",
      "Roundness Value : 0.25200036\n",
      "Original Word   : gonu\n",
      "Predicted word  : yazo\n",
      "\n",
      "Roundness Value : 0.0557759\n",
      "Original Word   : zezuzuyo\n",
      "Predicted word  : nurapegu\n",
      "\n",
      "Roundness Value : 0.063052915\n",
      "Original Word   : ronibema\n",
      "Predicted word  : nenokuha\n",
      "\n",
      "Roundness Value : 0.14619786\n",
      "Original Word   : dageshike\n",
      "Predicted word  : mopipikoheyo\n",
      "\n",
      "Roundness Value : 0.15073475\n",
      "Original Word   : naguhazanu\n",
      "Predicted word  : mubizazotape\n",
      "\n",
      "Roundness Value : 0.060333844\n",
      "Original Word   : wakirasu\n",
      "Predicted word  : zukujipe\n",
      "\n"
     ]
    }
   ],
   "source": [
    "random_sample = tst.sample(n=10, random_state=42)\n",
    "for _, row in random_sample.iterrows():\n",
    "    print(f\"Roundness Value : {row['Roundness']}\")\n",
    "    print(f\"Original Word   : {row['Pseudoword']}\")\n",
    "    print(f\"Predicted word  : {inference(model, row[\"Roundness\"])}\")\n",
    "    print()"
   ]
  },
  {
   "cell_type": "code",
   "execution_count": 10,
   "metadata": {},
   "outputs": [
    {
     "name": "stdout",
     "output_type": "stream",
     "text": [
      "Roundness Value: 0.0\n",
      "Predicted word: yachihino\n",
      "\n",
      "Roundness Value: 0.1\n",
      "Predicted word: kibikamiwa\n",
      "\n",
      "Roundness Value: 0.2\n",
      "Predicted word: hapozato\n",
      "\n",
      "Roundness Value: 0.3\n",
      "Predicted word: sumu\n",
      "\n",
      "Roundness Value: 0.4\n",
      "Predicted word: genumi\n",
      "\n",
      "Roundness Value: 0.5\n",
      "Predicted word: meishi\n",
      "\n",
      "Roundness Value: 0.6\n",
      "Predicted word: oge\n",
      "\n",
      "Roundness Value: 0.7\n",
      "Predicted word: baa\n",
      "\n",
      "Roundness Value: 0.8\n",
      "Predicted word: gere\n",
      "\n",
      "Roundness Value: 0.9\n",
      "Predicted word: atei\n",
      "\n",
      "Roundness Value: 1.0\n",
      "Predicted word: pie\n",
      "\n"
     ]
    }
   ],
   "source": [
    "roundness_list = []\n",
    "for i in range(11):\n",
    "    roundness_list.append(i/10)\n",
    "\n",
    "for roundness in roundness_list:\n",
    "    print(f\"Roundness Value: {roundness}\")\n",
    "    print(f\"Predicted word: {inference(model, roundness)}\")\n",
    "    print()"
   ]
  },
  {
   "cell_type": "markdown",
   "metadata": {},
   "source": [
    "# Save and load model"
   ]
  },
  {
   "cell_type": "code",
   "execution_count": 11,
   "metadata": {},
   "outputs": [
    {
     "name": "stdout",
     "output_type": "stream",
     "text": [
      "Model saved to outputs/pseudoword_generator_v03.pth\n"
     ]
    }
   ],
   "source": [
    "save_model(model, filename=f\"pseudoword_generator_v0{VERSION}.pth\")"
   ]
  },
  {
   "cell_type": "code",
   "execution_count": null,
   "metadata": {},
   "outputs": [],
   "source": [
    "model = load_model(filename=f\"pseudoword_generator_v0{VERSION}.pth\")"
   ]
  }
 ],
 "metadata": {
  "kernelspec": {
   "display_name": "pseudoword",
   "language": "python",
   "name": "python3"
  },
  "language_info": {
   "codemirror_mode": {
    "name": "ipython",
    "version": 3
   },
   "file_extension": ".py",
   "mimetype": "text/x-python",
   "name": "python",
   "nbconvert_exporter": "python",
   "pygments_lexer": "ipython3",
   "version": "3.12.8"
  }
 },
 "nbformat": 4,
 "nbformat_minor": 2
}
