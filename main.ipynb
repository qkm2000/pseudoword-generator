{
 "cells": [
  {
   "cell_type": "markdown",
   "metadata": {},
   "source": [
    "# Design"
   ]
  },
  {
   "cell_type": "markdown",
   "metadata": {},
   "source": [
    "This is an decoder model which will take in a roundness value and output a pseudoword that corresponds to the roundness value"
   ]
  },
  {
   "cell_type": "code",
   "execution_count": 12,
   "metadata": {},
   "outputs": [],
   "source": [
    "from utils.pseudoword_generator import *\n",
    "import pandas as pd\n",
    "import torch\n",
    "\n",
    "pd.set_option('display.max_columns', None)\n",
    "device = \"cuda\" if torch.cuda.is_available() else \"cpu\"\n",
    "state = 42\n",
    "\n",
    "VERSION = \"3.0\""
   ]
  },
  {
   "cell_type": "markdown",
   "metadata": {},
   "source": [
    "# Dataset"
   ]
  },
  {
   "cell_type": "code",
   "execution_count": 2,
   "metadata": {},
   "outputs": [
    {
     "data": {
      "text/html": [
       "<div>\n",
       "<style scoped>\n",
       "    .dataframe tbody tr th:only-of-type {\n",
       "        vertical-align: middle;\n",
       "    }\n",
       "\n",
       "    .dataframe tbody tr th {\n",
       "        vertical-align: top;\n",
       "    }\n",
       "\n",
       "    .dataframe thead th {\n",
       "        text-align: right;\n",
       "    }\n",
       "</style>\n",
       "<table border=\"1\" class=\"dataframe\">\n",
       "  <thead>\n",
       "    <tr style=\"text-align: right;\">\n",
       "      <th></th>\n",
       "      <th>Pseudoword</th>\n",
       "      <th>Roundness</th>\n",
       "    </tr>\n",
       "  </thead>\n",
       "  <tbody>\n",
       "    <tr>\n",
       "      <th>0</th>\n",
       "      <td>irepeo</td>\n",
       "      <td>0.481853</td>\n",
       "    </tr>\n",
       "    <tr>\n",
       "      <th>1</th>\n",
       "      <td>bea</td>\n",
       "      <td>0.562284</td>\n",
       "    </tr>\n",
       "    <tr>\n",
       "      <th>2</th>\n",
       "      <td>kiko</td>\n",
       "      <td>0.371239</td>\n",
       "    </tr>\n",
       "    <tr>\n",
       "      <th>3</th>\n",
       "      <td>tsupihamumo</td>\n",
       "      <td>0.235215</td>\n",
       "    </tr>\n",
       "    <tr>\n",
       "      <th>4</th>\n",
       "      <td>koke</td>\n",
       "      <td>0.212680</td>\n",
       "    </tr>\n",
       "    <tr>\n",
       "      <th>...</th>\n",
       "      <td>...</td>\n",
       "      <td>...</td>\n",
       "    </tr>\n",
       "    <tr>\n",
       "      <th>9995</th>\n",
       "      <td>tademunoo</td>\n",
       "      <td>0.782395</td>\n",
       "    </tr>\n",
       "    <tr>\n",
       "      <th>9996</th>\n",
       "      <td>tsujidenubo</td>\n",
       "      <td>0.339519</td>\n",
       "    </tr>\n",
       "    <tr>\n",
       "      <th>9997</th>\n",
       "      <td>musa</td>\n",
       "      <td>0.517813</td>\n",
       "    </tr>\n",
       "    <tr>\n",
       "      <th>9998</th>\n",
       "      <td>sateihemu</td>\n",
       "      <td>0.492698</td>\n",
       "    </tr>\n",
       "    <tr>\n",
       "      <th>9999</th>\n",
       "      <td>pekene</td>\n",
       "      <td>0.458165</td>\n",
       "    </tr>\n",
       "  </tbody>\n",
       "</table>\n",
       "<p>10000 rows × 2 columns</p>\n",
       "</div>"
      ],
      "text/plain": [
       "       Pseudoword  Roundness\n",
       "0          irepeo   0.481853\n",
       "1             bea   0.562284\n",
       "2            kiko   0.371239\n",
       "3     tsupihamumo   0.235215\n",
       "4            koke   0.212680\n",
       "...           ...        ...\n",
       "9995    tademunoo   0.782395\n",
       "9996  tsujidenubo   0.339519\n",
       "9997         musa   0.517813\n",
       "9998    sateihemu   0.492698\n",
       "9999       pekene   0.458165\n",
       "\n",
       "[10000 rows x 2 columns]"
      ]
     },
     "execution_count": 2,
     "metadata": {},
     "output_type": "execute_result"
    }
   ],
   "source": [
    "# Import dataset\n",
    "\n",
    "data = pd.read_csv('datasets/japanese_pseudowords.csv')\n",
    "data"
   ]
  },
  {
   "cell_type": "code",
   "execution_count": 3,
   "metadata": {},
   "outputs": [
    {
     "data": {
      "text/html": [
       "<div>\n",
       "<style scoped>\n",
       "    .dataframe tbody tr th:only-of-type {\n",
       "        vertical-align: middle;\n",
       "    }\n",
       "\n",
       "    .dataframe tbody tr th {\n",
       "        vertical-align: top;\n",
       "    }\n",
       "\n",
       "    .dataframe thead th {\n",
       "        text-align: right;\n",
       "    }\n",
       "</style>\n",
       "<table border=\"1\" class=\"dataframe\">\n",
       "  <thead>\n",
       "    <tr style=\"text-align: right;\">\n",
       "      <th></th>\n",
       "      <th>Roundness</th>\n",
       "    </tr>\n",
       "  </thead>\n",
       "  <tbody>\n",
       "    <tr>\n",
       "      <th>count</th>\n",
       "      <td>10000.000000</td>\n",
       "    </tr>\n",
       "    <tr>\n",
       "      <th>mean</th>\n",
       "      <td>0.500261</td>\n",
       "    </tr>\n",
       "    <tr>\n",
       "      <th>std</th>\n",
       "      <td>0.169169</td>\n",
       "    </tr>\n",
       "    <tr>\n",
       "      <th>min</th>\n",
       "      <td>0.172221</td>\n",
       "    </tr>\n",
       "    <tr>\n",
       "      <th>25%</th>\n",
       "      <td>0.372915</td>\n",
       "    </tr>\n",
       "    <tr>\n",
       "      <th>50%</th>\n",
       "      <td>0.494394</td>\n",
       "    </tr>\n",
       "    <tr>\n",
       "      <th>75%</th>\n",
       "      <td>0.613484</td>\n",
       "    </tr>\n",
       "    <tr>\n",
       "      <th>max</th>\n",
       "      <td>0.891836</td>\n",
       "    </tr>\n",
       "  </tbody>\n",
       "</table>\n",
       "</div>"
      ],
      "text/plain": [
       "          Roundness\n",
       "count  10000.000000\n",
       "mean       0.500261\n",
       "std        0.169169\n",
       "min        0.172221\n",
       "25%        0.372915\n",
       "50%        0.494394\n",
       "75%        0.613484\n",
       "max        0.891836"
      ]
     },
     "execution_count": 3,
     "metadata": {},
     "output_type": "execute_result"
    }
   ],
   "source": [
    "data.describe()"
   ]
  },
  {
   "cell_type": "code",
   "execution_count": 4,
   "metadata": {},
   "outputs": [],
   "source": [
    "# Split data into train, val and test sets\n",
    "\n",
    "trn = data.sample(frac=0.8, random_state=state)\n",
    "val = data.drop(trn.index).sample(frac=0.5, random_state=state)\n",
    "tst = data.drop(trn.index).drop(val.index)\n",
    "trn.reset_index(inplace=True, drop=True)\n",
    "val.reset_index(inplace=True, drop=True)\n",
    "tst.reset_index(inplace=True, drop=True)"
   ]
  },
  {
   "cell_type": "code",
   "execution_count": 5,
   "metadata": {},
   "outputs": [
    {
     "name": "stdout",
     "output_type": "stream",
     "text": [
      "Train set: 8000 samples, Validation set: 1000 samples, Test set: 1000 samples\n"
     ]
    }
   ],
   "source": [
    "print(f\"Train set: {len(trn)} samples, Validation set: {len(val)} samples, Test set: {len(tst)} samples\")"
   ]
  },
  {
   "cell_type": "markdown",
   "metadata": {},
   "source": [
    "# Model"
   ]
  },
  {
   "cell_type": "code",
   "execution_count": 6,
   "metadata": {},
   "outputs": [
    {
     "name": "stderr",
     "output_type": "stream",
     "text": [
      "You are using the default legacy behaviour of the <class 'transformers.models.t5.tokenization_t5.T5Tokenizer'>. This is expected, and simply means that the `legacy` (previous) behavior will be used so nothing changes for you. If you want to use the new behaviour, set `legacy=False`. This should only be set if you understand what it means, and thoroughly read the reason why this was added as explained in https://github.com/huggingface/transformers/pull/24565\n"
     ]
    }
   ],
   "source": [
    "model = RoundnessToTextModel(\n",
    "    t5_model_name=\"sonoisa/t5-base-japanese\",\n",
    "    freeze_t5=False,\n",
    "    hidden_dim=256,\n",
    "    output_dim=768,\n",
    "    device=\"cuda\" if torch.cuda.is_available() else \"cpu\",\n",
    ")"
   ]
  },
  {
   "cell_type": "code",
   "execution_count": 7,
   "metadata": {},
   "outputs": [],
   "source": [
    "# optimizer = torch.optim.Adam(model.parameters(), lr=0.001)\n",
    "optimizer = torch.optim.AdamW(model.parameters(), lr=0.001)\n",
    "scheduler = torch.optim.lr_scheduler.StepLR(optimizer, step_size=3, gamma=0.6)"
   ]
  },
  {
   "cell_type": "markdown",
   "metadata": {},
   "source": [
    "# Training"
   ]
  },
  {
   "cell_type": "code",
   "execution_count": 8,
   "metadata": {},
   "outputs": [
    {
     "name": "stderr",
     "output_type": "stream",
     "text": [
      "Passing a tuple of `past_key_values` is deprecated and will be removed in Transformers v4.48.0. You should pass an instance of `EncoderDecoderCache` instead, e.g. `past_key_values=EncoderDecoderCache.from_legacy_cache(past_key_values)`.\n"
     ]
    },
    {
     "name": "stdout",
     "output_type": "stream",
     "text": [
      "Epoch   1/100, Train Loss: 9.3327, Validation Loss: 2.7575, Best Val Loss: 2.7575\n",
      "Epoch   2/100, Train Loss: 2.6850, Validation Loss: 2.5908, Best Val Loss: 2.5908\n",
      "Epoch   3/100, Train Loss: 2.5870, Validation Loss: 2.5715, Best Val Loss: 2.5715\n",
      "Epoch   4/100, Train Loss: 2.5434, Validation Loss: 2.5548, Best Val Loss: 2.5548\n",
      "Epoch   5/100, Train Loss: 2.5191, Validation Loss: 2.5587, Best Val Loss: 2.5548\n",
      "Epoch   6/100, Train Loss: 2.4919, Validation Loss: 2.5595, Best Val Loss: 2.5548\n",
      "Epoch   7/100, Train Loss: 2.4683, Validation Loss: 2.5672, Best Val Loss: 2.5548\n",
      "Epoch   8/100, Train Loss: 2.4498, Validation Loss: 2.5784, Best Val Loss: 2.5548\n",
      "Epoch   9/100, Train Loss: 2.4319, Validation Loss: 2.5838, Best Val Loss: 2.5548\n",
      "Epoch  10/100, Train Loss: 2.4090, Validation Loss: 2.5771, Best Val Loss: 2.5548\n",
      "Epoch  11/100, Train Loss: 2.3930, Validation Loss: 2.5838, Best Val Loss: 2.5548\n",
      "Epoch  12/100, Train Loss: 2.3787, Validation Loss: 2.5962, Best Val Loss: 2.5548\n",
      "Epoch  13/100, Train Loss: 2.3629, Validation Loss: 2.6051, Best Val Loss: 2.5548\n",
      "Epoch  14/100, Train Loss: 2.3479, Validation Loss: 2.6047, Best Val Loss: 2.5548\n",
      "Early stopping triggered after 14 epochs\n",
      "Test Loss: 2.5307\n"
     ]
    }
   ],
   "source": [
    "train(\n",
    "    model=model,\n",
    "    optimizer=optimizer,\n",
    "    trn_roundness=trn[\"Roundness\"],\n",
    "    val_roundness=val[\"Roundness\"],\n",
    "    tst_roundness=tst[\"Roundness\"],\n",
    "    trn_texts=trn[\"Pseudoword\"],\n",
    "    val_texts=val[\"Pseudoword\"],\n",
    "    tst_texts=tst[\"Pseudoword\"],\n",
    "    batch_size=min(len(val), 100),\n",
    "    epochs=100,\n",
    "    patience=10,\n",
    "    scheduler=scheduler,\n",
    ")"
   ]
  },
  {
   "cell_type": "markdown",
   "metadata": {},
   "source": [
    "# Testing"
   ]
  },
  {
   "cell_type": "code",
   "execution_count": 9,
   "metadata": {},
   "outputs": [
    {
     "name": "stdout",
     "output_type": "stream",
     "text": [
      "Roundness Value : 0.27949998\n",
      "Original Word   : koshi\n",
      "Predicted word  : meyu\n",
      "\n",
      "Roundness Value : 0.42155546\n",
      "Original Word   : mifufude\n",
      "Predicted word  : nusateme\n",
      "\n",
      "Roundness Value : 0.7146631\n",
      "Original Word   : ize\n",
      "Predicted word  : ganodadega\n",
      "\n",
      "Roundness Value : 0.6702505\n",
      "Original Word   : rapueroi\n",
      "Predicted word  : hiyozu\n",
      "\n",
      "Roundness Value : 0.6265055\n",
      "Original Word   : oge\n",
      "Predicted word  : guda\n",
      "\n",
      "Roundness Value : 0.6067166\n",
      "Original Word   : daruusuku\n",
      "Predicted word  : zuretsuze\n",
      "\n",
      "Roundness Value : 0.4025172\n",
      "Original Word   : mote\n",
      "Predicted word  : geze\n",
      "\n",
      "Roundness Value : 0.8509306\n",
      "Original Word   : yabodoo\n",
      "Predicted word  : ruyogamo\n",
      "\n",
      "Roundness Value : 0.6420378\n",
      "Original Word   : jiso\n",
      "Predicted word  : zuzeba\n",
      "\n",
      "Roundness Value : 0.7561318\n",
      "Original Word   : oeido\n",
      "Predicted word  : homumumu\n",
      "\n"
     ]
    }
   ],
   "source": [
    "random_sample = tst.sample(n=10, random_state=42)\n",
    "for _, row in random_sample.iterrows():\n",
    "    print(f\"Roundness Value : {row['Roundness']}\")\n",
    "    print(f\"Original Word   : {row['Pseudoword']}\")\n",
    "    print(f\"Predicted word  : {inference(model, row[\"Roundness\"])}\")\n",
    "    print()"
   ]
  },
  {
   "cell_type": "code",
   "execution_count": 10,
   "metadata": {},
   "outputs": [
    {
     "name": "stdout",
     "output_type": "stream",
     "text": [
      "Roundness Value: 0.0\n",
      "Predicted word: yabekote\n",
      "\n",
      "Roundness Value: 0.1\n",
      "Predicted word: ruzupo\n",
      "\n",
      "Roundness Value: 0.2\n",
      "Predicted word: kigutodetsusu\n",
      "\n",
      "Roundness Value: 0.3\n",
      "Predicted word: pegi\n",
      "\n",
      "Roundness Value: 0.4\n",
      "Predicted word: rosako\n",
      "\n",
      "Roundness Value: 0.5\n",
      "Predicted word: risopa\n",
      "\n",
      "Roundness Value: 0.6\n",
      "Predicted word: pupusezebu\n",
      "\n",
      "Roundness Value: 0.7\n",
      "Predicted word: yaga\n",
      "\n",
      "Roundness Value: 0.8\n",
      "Predicted word: rigane\n",
      "\n",
      "Roundness Value: 0.9\n",
      "Predicted word: zonore\n",
      "\n",
      "Roundness Value: 1.0\n",
      "Predicted word: uhifuyo\n",
      "\n"
     ]
    }
   ],
   "source": [
    "roundness_list = []\n",
    "for i in range(11):\n",
    "    roundness_list.append(i/10)\n",
    "\n",
    "for roundness in roundness_list:\n",
    "    print(f\"Roundness Value: {roundness}\")\n",
    "    print(f\"Predicted word: {inference(model, roundness)}\")\n",
    "    print()"
   ]
  },
  {
   "cell_type": "markdown",
   "metadata": {},
   "source": [
    "# Save and load model"
   ]
  },
  {
   "cell_type": "code",
   "execution_count": 13,
   "metadata": {},
   "outputs": [
    {
     "name": "stdout",
     "output_type": "stream",
     "text": [
      "Model saved to outputs/pseudoword_generator_v03.0.pth\n"
     ]
    }
   ],
   "source": [
    "save_model(model, filename=f\"pseudoword_generator_v0{VERSION}.pth\")"
   ]
  },
  {
   "cell_type": "code",
   "execution_count": null,
   "metadata": {},
   "outputs": [],
   "source": [
    "model = load_model(filename=f\"pseudoword_generator_v0{VERSION}.pth\")"
   ]
  }
 ],
 "metadata": {
  "kernelspec": {
   "display_name": "pseudoword",
   "language": "python",
   "name": "python3"
  },
  "language_info": {
   "codemirror_mode": {
    "name": "ipython",
    "version": 3
   },
   "file_extension": ".py",
   "mimetype": "text/x-python",
   "name": "python",
   "nbconvert_exporter": "python",
   "pygments_lexer": "ipython3",
   "version": "3.12.8"
  }
 },
 "nbformat": 4,
 "nbformat_minor": 2
}
