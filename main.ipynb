{
 "cells": [
  {
   "cell_type": "markdown",
   "metadata": {},
   "source": [
    "# Design"
   ]
  },
  {
   "cell_type": "markdown",
   "metadata": {},
   "source": [
    "This is an decoder model which will take in a roundness value and output a pseudoword that corresponds to the roundness value"
   ]
  },
  {
   "cell_type": "code",
   "execution_count": 1,
   "metadata": {},
   "outputs": [
    {
     "name": "stderr",
     "output_type": "stream",
     "text": [
      "c:\\Users\\qkm20\\anaconda3\\envs\\pseudoword\\Lib\\site-packages\\tqdm\\auto.py:21: TqdmWarning: IProgress not found. Please update jupyter and ipywidgets. See https://ipywidgets.readthedocs.io/en/stable/user_install.html\n",
      "  from .autonotebook import tqdm as notebook_tqdm\n"
     ]
    }
   ],
   "source": [
    "from utils.model import *\n",
    "from utils.model_utils import *\n",
    "import pandas as pd\n",
    "import torch\n",
    "\n",
    "pd.set_option('display.max_columns', None)\n",
    "device = \"cuda\" if torch.cuda.is_available() else \"cpu\"\n",
    "state = 42"
   ]
  },
  {
   "cell_type": "markdown",
   "metadata": {},
   "source": [
    "# Dataset"
   ]
  },
  {
   "cell_type": "code",
   "execution_count": 2,
   "metadata": {},
   "outputs": [
    {
     "data": {
      "text/html": [
       "<div>\n",
       "<style scoped>\n",
       "    .dataframe tbody tr th:only-of-type {\n",
       "        vertical-align: middle;\n",
       "    }\n",
       "\n",
       "    .dataframe tbody tr th {\n",
       "        vertical-align: top;\n",
       "    }\n",
       "\n",
       "    .dataframe thead th {\n",
       "        text-align: right;\n",
       "    }\n",
       "</style>\n",
       "<table border=\"1\" class=\"dataframe\">\n",
       "  <thead>\n",
       "    <tr style=\"text-align: right;\">\n",
       "      <th></th>\n",
       "      <th>Stimuli</th>\n",
       "      <th>ExperimentalRoundScore</th>\n",
       "    </tr>\n",
       "  </thead>\n",
       "  <tbody>\n",
       "    <tr>\n",
       "      <th>0</th>\n",
       "      <td>bebi</td>\n",
       "      <td>0.815217</td>\n",
       "    </tr>\n",
       "    <tr>\n",
       "      <th>1</th>\n",
       "      <td>bibe</td>\n",
       "      <td>0.913043</td>\n",
       "    </tr>\n",
       "    <tr>\n",
       "      <th>2</th>\n",
       "      <td>bobou</td>\n",
       "      <td>0.815217</td>\n",
       "    </tr>\n",
       "    <tr>\n",
       "      <th>3</th>\n",
       "      <td>boubo</td>\n",
       "      <td>1.000000</td>\n",
       "    </tr>\n",
       "    <tr>\n",
       "      <th>4</th>\n",
       "      <td>chechi</td>\n",
       "      <td>0.184783</td>\n",
       "    </tr>\n",
       "    <tr>\n",
       "      <th>...</th>\n",
       "      <td>...</td>\n",
       "      <td>...</td>\n",
       "    </tr>\n",
       "    <tr>\n",
       "      <th>119</th>\n",
       "      <td>outou</td>\n",
       "      <td>0.347826</td>\n",
       "    </tr>\n",
       "    <tr>\n",
       "      <th>120</th>\n",
       "      <td>uku</td>\n",
       "      <td>0.239130</td>\n",
       "    </tr>\n",
       "    <tr>\n",
       "      <th>121</th>\n",
       "      <td>ulu</td>\n",
       "      <td>0.913043</td>\n",
       "    </tr>\n",
       "    <tr>\n",
       "      <th>122</th>\n",
       "      <td>umu</td>\n",
       "      <td>0.913043</td>\n",
       "    </tr>\n",
       "    <tr>\n",
       "      <th>123</th>\n",
       "      <td>utu</td>\n",
       "      <td>0.239130</td>\n",
       "    </tr>\n",
       "  </tbody>\n",
       "</table>\n",
       "<p>124 rows × 2 columns</p>\n",
       "</div>"
      ],
      "text/plain": [
       "    Stimuli  ExperimentalRoundScore\n",
       "0      bebi                0.815217\n",
       "1      bibe                0.913043\n",
       "2     bobou                0.815217\n",
       "3     boubo                1.000000\n",
       "4    chechi                0.184783\n",
       "..      ...                     ...\n",
       "119   outou                0.347826\n",
       "120     uku                0.239130\n",
       "121     ulu                0.913043\n",
       "122     umu                0.913043\n",
       "123     utu                0.239130\n",
       "\n",
       "[124 rows x 2 columns]"
      ]
     },
     "execution_count": 2,
     "metadata": {},
     "output_type": "execute_result"
    }
   ],
   "source": [
    "# Import dataset\n",
    "\n",
    "data = pd.read_csv('datasets/normalized.csv')\n",
    "data"
   ]
  },
  {
   "cell_type": "code",
   "execution_count": 3,
   "metadata": {},
   "outputs": [
    {
     "data": {
      "text/html": [
       "<div>\n",
       "<style scoped>\n",
       "    .dataframe tbody tr th:only-of-type {\n",
       "        vertical-align: middle;\n",
       "    }\n",
       "\n",
       "    .dataframe tbody tr th {\n",
       "        vertical-align: top;\n",
       "    }\n",
       "\n",
       "    .dataframe thead th {\n",
       "        text-align: right;\n",
       "    }\n",
       "</style>\n",
       "<table border=\"1\" class=\"dataframe\">\n",
       "  <thead>\n",
       "    <tr style=\"text-align: right;\">\n",
       "      <th></th>\n",
       "      <th>Stimuli</th>\n",
       "      <th>ExperimentalRoundScore</th>\n",
       "    </tr>\n",
       "  </thead>\n",
       "  <tbody>\n",
       "    <tr>\n",
       "      <th>0</th>\n",
       "      <td>bebi</td>\n",
       "      <td>0.815217</td>\n",
       "    </tr>\n",
       "    <tr>\n",
       "      <th>1</th>\n",
       "      <td>bibe</td>\n",
       "      <td>0.913043</td>\n",
       "    </tr>\n",
       "    <tr>\n",
       "      <th>2</th>\n",
       "      <td>bobou</td>\n",
       "      <td>0.815217</td>\n",
       "    </tr>\n",
       "    <tr>\n",
       "      <th>3</th>\n",
       "      <td>boubo</td>\n",
       "      <td>1.000000</td>\n",
       "    </tr>\n",
       "    <tr>\n",
       "      <th>4</th>\n",
       "      <td>chechi</td>\n",
       "      <td>0.184783</td>\n",
       "    </tr>\n",
       "    <tr>\n",
       "      <th>...</th>\n",
       "      <td>...</td>\n",
       "      <td>...</td>\n",
       "    </tr>\n",
       "    <tr>\n",
       "      <th>1111</th>\n",
       "      <td>futou</td>\n",
       "      <td>0.347826</td>\n",
       "    </tr>\n",
       "    <tr>\n",
       "      <th>1112</th>\n",
       "      <td>upf</td>\n",
       "      <td>0.239130</td>\n",
       "    </tr>\n",
       "    <tr>\n",
       "      <th>1113</th>\n",
       "      <td>piu</td>\n",
       "      <td>0.913043</td>\n",
       "    </tr>\n",
       "    <tr>\n",
       "      <th>1114</th>\n",
       "      <td>qhu</td>\n",
       "      <td>0.913043</td>\n",
       "    </tr>\n",
       "    <tr>\n",
       "      <th>1115</th>\n",
       "      <td>gtb</td>\n",
       "      <td>0.239130</td>\n",
       "    </tr>\n",
       "  </tbody>\n",
       "</table>\n",
       "<p>1116 rows × 2 columns</p>\n",
       "</div>"
      ],
      "text/plain": [
       "     Stimuli  ExperimentalRoundScore\n",
       "0       bebi                0.815217\n",
       "1       bibe                0.913043\n",
       "2      bobou                0.815217\n",
       "3      boubo                1.000000\n",
       "4     chechi                0.184783\n",
       "...      ...                     ...\n",
       "1111   futou                0.347826\n",
       "1112     upf                0.239130\n",
       "1113     piu                0.913043\n",
       "1114     qhu                0.913043\n",
       "1115     gtb                0.239130\n",
       "\n",
       "[1116 rows x 2 columns]"
      ]
     },
     "execution_count": 3,
     "metadata": {},
     "output_type": "execute_result"
    }
   ],
   "source": [
    "import random\n",
    "\n",
    "def augment_data(data, num_augmentations=2):\n",
    "    augmented_data = data.copy()\n",
    "    for _ in range(num_augmentations):\n",
    "        new_rows = []\n",
    "        for _, row in data.iterrows():\n",
    "            new_stimuli = list(row['Stimuli'])\n",
    "            # Randomly change one character in the pseudoword\n",
    "            idx = random.randint(0, len(new_stimuli) - 1)\n",
    "            new_stimuli[idx] = chr(random.randint(97, 122))  # Replace with a random lowercase letter\n",
    "            new_stimuli = ''.join(new_stimuli)\n",
    "            new_rows.append({'Stimuli': new_stimuli, 'ExperimentalRoundScore': row['ExperimentalRoundScore']})\n",
    "        augmented_data = augmented_data._append(new_rows, ignore_index=True)\n",
    "    return augmented_data\n",
    "\n",
    "augmented_data = augment_data(data)\n",
    "augmented_data = augment_data(augmented_data)\n",
    "data = augmented_data\n",
    "data"
   ]
  },
  {
   "cell_type": "code",
   "execution_count": 4,
   "metadata": {},
   "outputs": [],
   "source": [
    "# Split data into train, val and test sets\n",
    "\n",
    "trn = data.sample(frac=0.8, random_state=state)\n",
    "val = data.drop(trn.index).sample(frac=0.5, random_state=state)\n",
    "tst = data.drop(trn.index).drop(val.index)\n",
    "trn.reset_index(inplace=True, drop=True)\n",
    "val.reset_index(inplace=True, drop=True)\n",
    "tst.reset_index(inplace=True, drop=True)"
   ]
  },
  {
   "cell_type": "markdown",
   "metadata": {},
   "source": [
    "# Model"
   ]
  },
  {
   "cell_type": "code",
   "execution_count": 5,
   "metadata": {},
   "outputs": [],
   "source": [
    "model = RoundnessToTextModel(\n",
    "    freeze_byt5=False\n",
    ")"
   ]
  },
  {
   "cell_type": "code",
   "execution_count": 6,
   "metadata": {},
   "outputs": [],
   "source": [
    "optimizer = torch.optim.Adam(model.parameters(), lr=0.001)\n",
    "scheduler = torch.optim.lr_scheduler.StepLR(optimizer, step_size=10, gamma=0.5)"
   ]
  },
  {
   "cell_type": "code",
   "execution_count": 7,
   "metadata": {},
   "outputs": [
    {
     "name": "stderr",
     "output_type": "stream",
     "text": [
      "Passing a tuple of `past_key_values` is deprecated and will be removed in Transformers v4.48.0. You should pass an instance of `EncoderDecoderCache` instead, e.g. `past_key_values=EncoderDecoderCache.from_legacy_cache(past_key_values)`.\n"
     ]
    },
    {
     "name": "stdout",
     "output_type": "stream",
     "text": [
      "Epoch   1/ 10, Train Loss: 6.8373, Validation Loss: 2.7294\n"
     ]
    },
    {
     "name": "stderr",
     "output_type": "stream",
     "text": [
      "c:\\Users\\qkm20\\anaconda3\\envs\\pseudoword\\Lib\\site-packages\\torch\\optim\\lr_scheduler.py:240: UserWarning: The epoch parameter in `scheduler.step()` was not necessary and is being deprecated where possible. Please use `scheduler.step()` to step the scheduler. During the deprecation, if epoch is different from None, the closed form is used instead of the new chainable form, where available. Please open an issue if you are unable to replicate your use case: https://github.com/pytorch/pytorch/issues/new/choose.\n",
      "  warnings.warn(EPOCH_DEPRECATION_WARNING, UserWarning)\n"
     ]
    },
    {
     "name": "stdout",
     "output_type": "stream",
     "text": [
      "Epoch   2/ 10, Train Loss: 2.1684, Validation Loss: 2.2984\n",
      "Epoch   3/ 10, Train Loss: 1.9303, Validation Loss: 2.2365\n",
      "Epoch   4/ 10, Train Loss: 1.7983, Validation Loss: 2.1479\n",
      "Epoch   5/ 10, Train Loss: 1.6814, Validation Loss: 2.0955\n",
      "Epoch   6/ 10, Train Loss: 1.5875, Validation Loss: 2.0716\n",
      "Epoch   7/ 10, Train Loss: 1.4801, Validation Loss: 2.0988\n",
      "Epoch   8/ 10, Train Loss: 1.4053, Validation Loss: 2.1708\n",
      "Epoch   9/ 10, Train Loss: 1.3563, Validation Loss: 2.2983\n",
      "Epoch  10/ 10, Train Loss: 1.3228, Validation Loss: 2.3436\n",
      "Test Loss: 2.3091\n"
     ]
    }
   ],
   "source": [
    "train(\n",
    "    model=model,\n",
    "    optimizer=optimizer,\n",
    "    trn_roundness=trn[\"ExperimentalRoundScore\"],\n",
    "    val_roundness=val[\"ExperimentalRoundScore\"],\n",
    "    tst_roundness=tst[\"ExperimentalRoundScore\"],\n",
    "    trn_texts=trn[\"Stimuli\"],\n",
    "    val_texts=val[\"Stimuli\"],\n",
    "    tst_texts=tst[\"Stimuli\"],\n",
    "    batch_size=20,\n",
    "    epochs=10,\n",
    "    patience=10,\n",
    "    scheduler=scheduler,\n",
    ")"
   ]
  },
  {
   "cell_type": "code",
   "execution_count": 8,
   "metadata": {},
   "outputs": [],
   "source": [
    "save_model(model, filename=\"model_v01.pth\")"
   ]
  },
  {
   "cell_type": "markdown",
   "metadata": {},
   "source": [
    "# Testing"
   ]
  },
  {
   "cell_type": "code",
   "execution_count": 9,
   "metadata": {},
   "outputs": [
    {
     "name": "stderr",
     "output_type": "stream",
     "text": [
      "f:\\OneDrive - Nanyang Technological University\\FYP\\Pseudoword-Generator\\utils\\model.py:118: FutureWarning: You are using `torch.load` with `weights_only=False` (the current default value), which uses the default pickle module implicitly. It is possible to construct malicious pickle data which will execute arbitrary code during unpickling (See https://github.com/pytorch/pytorch/blob/main/SECURITY.md#untrusted-models for more details). In a future release, the default value for `weights_only` will be flipped to `True`. This limits the functions that could be executed during unpickling. Arbitrary objects will no longer be allowed to be loaded via this mode unless they are explicitly allowlisted by the user via `torch.serialization.add_safe_globals`. We recommend you start setting `weights_only=True` for any use case where you don't have full control of the loaded file. Please open an issue on GitHub for any issues related to this experimental feature.\n",
      "  model.load_state_dict(torch.load(path))\n"
     ]
    }
   ],
   "source": [
    "model = load_model(filename=\"model_v01.pth\")"
   ]
  },
  {
   "cell_type": "code",
   "execution_count": 10,
   "metadata": {},
   "outputs": [
    {
     "name": "stdout",
     "output_type": "stream",
     "text": [
      "Expected Word: tjukeu\n",
      "first few logits: tensor([ 0.8248, -0.3533,  0.5461, -0.7811,  0.6354], device='cuda:0')\n",
      "tensor([[  0, 111, 114, 120, 112, 114,   1]], device='cuda:0')\n",
      "Predicted word: loumo\n",
      "Round Score: 0.2391304347826087\n",
      "\n",
      "Expected Word: cjiche\n",
      "first few logits: tensor([ 0.8060, -0.3531,  0.5628, -0.7819,  0.6500], device='cuda:0')\n",
      "tensor([[  0, 111, 114, 120, 112, 114,   1]], device='cuda:0')\n",
      "Predicted word: loumo\n",
      "Round Score: 0.5434782608695652\n",
      "\n",
      "Expected Word: neni\n",
      "first few logits: tensor([ 0.8060, -0.3531,  0.5628, -0.7819,  0.6500], device='cuda:0')\n",
      "tensor([[  0, 111, 114, 120, 112, 114,   1]], device='cuda:0')\n",
      "Predicted word: loumo\n",
      "Round Score: 0.5434782608695652\n",
      "\n",
      "Expected Word: bosoh\n",
      "first few logits: tensor([ 0.7892, -0.3528,  0.5777, -0.7826,  0.6630], device='cuda:0')\n",
      "tensor([[  0, 111, 114, 120, 112, 114,   1]], device='cuda:0')\n",
      "Predicted word: loumo\n",
      "Round Score: 0.8152173913043478\n",
      "\n",
      "Expected Word: logmou\n",
      "first few logits: tensor([ 0.7778, -0.3527,  0.5878, -0.7830,  0.6718], device='cuda:0')\n",
      "tensor([[  0, 111, 114, 120, 112, 114,   1]], device='cuda:0')\n",
      "Predicted word: loumo\n",
      "Round Score: 1.0\n",
      "\n"
     ]
    }
   ],
   "source": [
    "random_sample = tst.sample(n=5, random_state=42)\n",
    "\n",
    "for _, row in random_sample.iterrows():\n",
    "    print(f\"Expected Word: {row['Stimuli']}\")\n",
    "    print(f\"Predicted word: {inference(model, row[\"ExperimentalRoundScore\"])}\")\n",
    "    print(f\"Round Score: {row['ExperimentalRoundScore']}\")\n",
    "    print()"
   ]
  }
 ],
 "metadata": {
  "kernelspec": {
   "display_name": "pseudoword",
   "language": "python",
   "name": "python3"
  },
  "language_info": {
   "codemirror_mode": {
    "name": "ipython",
    "version": 3
   },
   "file_extension": ".py",
   "mimetype": "text/x-python",
   "name": "python",
   "nbconvert_exporter": "python",
   "pygments_lexer": "ipython3",
   "version": "3.12.8"
  }
 },
 "nbformat": 4,
 "nbformat_minor": 2
}
