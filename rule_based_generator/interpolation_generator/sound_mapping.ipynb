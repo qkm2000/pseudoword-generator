{
 "cells": [
  {
   "cell_type": "markdown",
   "metadata": {},
   "source": [
    "this notebook is meant to see if we are able to extract character roundness mappings from the dataset provided by Fort et al (2015)"
   ]
  },
  {
   "cell_type": "code",
   "execution_count": 1,
   "metadata": {},
   "outputs": [],
   "source": [
    "import pandas as pd"
   ]
  },
  {
   "cell_type": "code",
   "execution_count": 2,
   "metadata": {},
   "outputs": [
    {
     "data": {
      "text/html": [
       "<div>\n",
       "<style scoped>\n",
       "    .dataframe tbody tr th:only-of-type {\n",
       "        vertical-align: middle;\n",
       "    }\n",
       "\n",
       "    .dataframe tbody tr th {\n",
       "        vertical-align: top;\n",
       "    }\n",
       "\n",
       "    .dataframe thead th {\n",
       "        text-align: right;\n",
       "    }\n",
       "</style>\n",
       "<table border=\"1\" class=\"dataframe\">\n",
       "  <thead>\n",
       "    <tr style=\"text-align: right;\">\n",
       "      <th></th>\n",
       "      <th>Study</th>\n",
       "      <th>Stimuli</th>\n",
       "      <th>ExperimentalRoundScore</th>\n",
       "      <th>ModelRoundScore</th>\n",
       "    </tr>\n",
       "  </thead>\n",
       "  <tbody>\n",
       "    <tr>\n",
       "      <th>0</th>\n",
       "      <td>FortExp3</td>\n",
       "      <td>cel_bebi_1_ids.wav</td>\n",
       "      <td>33</td>\n",
       "      <td>5.8294</td>\n",
       "    </tr>\n",
       "    <tr>\n",
       "      <th>1</th>\n",
       "      <td>FortExp3</td>\n",
       "      <td>cel_bibe_2_ids.wav</td>\n",
       "      <td>42</td>\n",
       "      <td>12.2039</td>\n",
       "    </tr>\n",
       "    <tr>\n",
       "      <th>2</th>\n",
       "      <td>FortExp3</td>\n",
       "      <td>cel_bobou_1_ids.wav</td>\n",
       "      <td>33</td>\n",
       "      <td>25.6795</td>\n",
       "    </tr>\n",
       "    <tr>\n",
       "      <th>3</th>\n",
       "      <td>FortExp3</td>\n",
       "      <td>cel_boubo_1_ids.wav</td>\n",
       "      <td>50</td>\n",
       "      <td>29.2659</td>\n",
       "    </tr>\n",
       "    <tr>\n",
       "      <th>4</th>\n",
       "      <td>FortExp3</td>\n",
       "      <td>cel_chechi_3_ids.wav</td>\n",
       "      <td>-25</td>\n",
       "      <td>-10.6296</td>\n",
       "    </tr>\n",
       "    <tr>\n",
       "      <th>...</th>\n",
       "      <td>...</td>\n",
       "      <td>...</td>\n",
       "      <td>...</td>\n",
       "      <td>...</td>\n",
       "    </tr>\n",
       "    <tr>\n",
       "      <th>119</th>\n",
       "      <td>FortExp2</td>\n",
       "      <td>outou_2.wav</td>\n",
       "      <td>-10</td>\n",
       "      <td>-16.3581</td>\n",
       "    </tr>\n",
       "    <tr>\n",
       "      <th>120</th>\n",
       "      <td>FortExp2</td>\n",
       "      <td>uku_2.wav</td>\n",
       "      <td>-20</td>\n",
       "      <td>-14.6789</td>\n",
       "    </tr>\n",
       "    <tr>\n",
       "      <th>121</th>\n",
       "      <td>FortExp2</td>\n",
       "      <td>ulu_3.wav</td>\n",
       "      <td>42</td>\n",
       "      <td>32.9821</td>\n",
       "    </tr>\n",
       "    <tr>\n",
       "      <th>122</th>\n",
       "      <td>FortExp2</td>\n",
       "      <td>umu_3.wav</td>\n",
       "      <td>42</td>\n",
       "      <td>41.1944</td>\n",
       "    </tr>\n",
       "    <tr>\n",
       "      <th>123</th>\n",
       "      <td>FortExp2</td>\n",
       "      <td>utu_3.wav</td>\n",
       "      <td>-20</td>\n",
       "      <td>-21.5778</td>\n",
       "    </tr>\n",
       "  </tbody>\n",
       "</table>\n",
       "<p>124 rows × 4 columns</p>\n",
       "</div>"
      ],
      "text/plain": [
       "        Study               Stimuli  ExperimentalRoundScore  ModelRoundScore\n",
       "0    FortExp3    cel_bebi_1_ids.wav                      33           5.8294\n",
       "1    FortExp3    cel_bibe_2_ids.wav                      42          12.2039\n",
       "2    FortExp3   cel_bobou_1_ids.wav                      33          25.6795\n",
       "3    FortExp3   cel_boubo_1_ids.wav                      50          29.2659\n",
       "4    FortExp3  cel_chechi_3_ids.wav                     -25         -10.6296\n",
       "..        ...                   ...                     ...              ...\n",
       "119  FortExp2           outou_2.wav                     -10         -16.3581\n",
       "120  FortExp2             uku_2.wav                     -20         -14.6789\n",
       "121  FortExp2             ulu_3.wav                      42          32.9821\n",
       "122  FortExp2             umu_3.wav                      42          41.1944\n",
       "123  FortExp2             utu_3.wav                     -20         -21.5778\n",
       "\n",
       "[124 rows x 4 columns]"
      ]
     },
     "execution_count": 2,
     "metadata": {},
     "output_type": "execute_result"
    }
   ],
   "source": [
    "data = pd.read_csv(r'F:\\OneDrive - Nanyang Technological University\\FYP\\Pseudoword-Generator\\datasets\\Fortetal2015_dataforOSF.csv')\n",
    "data"
   ]
  },
  {
   "cell_type": "markdown",
   "metadata": {},
   "source": [
    "drop unnecessary columns"
   ]
  },
  {
   "cell_type": "code",
   "execution_count": 3,
   "metadata": {},
   "outputs": [
    {
     "data": {
      "text/html": [
       "<div>\n",
       "<style scoped>\n",
       "    .dataframe tbody tr th:only-of-type {\n",
       "        vertical-align: middle;\n",
       "    }\n",
       "\n",
       "    .dataframe tbody tr th {\n",
       "        vertical-align: top;\n",
       "    }\n",
       "\n",
       "    .dataframe thead th {\n",
       "        text-align: right;\n",
       "    }\n",
       "</style>\n",
       "<table border=\"1\" class=\"dataframe\">\n",
       "  <thead>\n",
       "    <tr style=\"text-align: right;\">\n",
       "      <th></th>\n",
       "      <th>Stimuli</th>\n",
       "      <th>ExperimentalRoundScore</th>\n",
       "    </tr>\n",
       "  </thead>\n",
       "  <tbody>\n",
       "    <tr>\n",
       "      <th>0</th>\n",
       "      <td>cel_bebi_1_ids.wav</td>\n",
       "      <td>33</td>\n",
       "    </tr>\n",
       "    <tr>\n",
       "      <th>1</th>\n",
       "      <td>cel_bibe_2_ids.wav</td>\n",
       "      <td>42</td>\n",
       "    </tr>\n",
       "    <tr>\n",
       "      <th>2</th>\n",
       "      <td>cel_bobou_1_ids.wav</td>\n",
       "      <td>33</td>\n",
       "    </tr>\n",
       "    <tr>\n",
       "      <th>3</th>\n",
       "      <td>cel_boubo_1_ids.wav</td>\n",
       "      <td>50</td>\n",
       "    </tr>\n",
       "    <tr>\n",
       "      <th>4</th>\n",
       "      <td>cel_chechi_3_ids.wav</td>\n",
       "      <td>-25</td>\n",
       "    </tr>\n",
       "    <tr>\n",
       "      <th>...</th>\n",
       "      <td>...</td>\n",
       "      <td>...</td>\n",
       "    </tr>\n",
       "    <tr>\n",
       "      <th>119</th>\n",
       "      <td>outou_2.wav</td>\n",
       "      <td>-10</td>\n",
       "    </tr>\n",
       "    <tr>\n",
       "      <th>120</th>\n",
       "      <td>uku_2.wav</td>\n",
       "      <td>-20</td>\n",
       "    </tr>\n",
       "    <tr>\n",
       "      <th>121</th>\n",
       "      <td>ulu_3.wav</td>\n",
       "      <td>42</td>\n",
       "    </tr>\n",
       "    <tr>\n",
       "      <th>122</th>\n",
       "      <td>umu_3.wav</td>\n",
       "      <td>42</td>\n",
       "    </tr>\n",
       "    <tr>\n",
       "      <th>123</th>\n",
       "      <td>utu_3.wav</td>\n",
       "      <td>-20</td>\n",
       "    </tr>\n",
       "  </tbody>\n",
       "</table>\n",
       "<p>124 rows × 2 columns</p>\n",
       "</div>"
      ],
      "text/plain": [
       "                  Stimuli  ExperimentalRoundScore\n",
       "0      cel_bebi_1_ids.wav                      33\n",
       "1      cel_bibe_2_ids.wav                      42\n",
       "2     cel_bobou_1_ids.wav                      33\n",
       "3     cel_boubo_1_ids.wav                      50\n",
       "4    cel_chechi_3_ids.wav                     -25\n",
       "..                    ...                     ...\n",
       "119           outou_2.wav                     -10\n",
       "120             uku_2.wav                     -20\n",
       "121             ulu_3.wav                      42\n",
       "122             umu_3.wav                      42\n",
       "123             utu_3.wav                     -20\n",
       "\n",
       "[124 rows x 2 columns]"
      ]
     },
     "execution_count": 3,
     "metadata": {},
     "output_type": "execute_result"
    }
   ],
   "source": [
    "data = data.drop(columns=['Study', 'ModelRoundScore'])\n",
    "data"
   ]
  },
  {
   "cell_type": "markdown",
   "metadata": {},
   "source": [
    "extracting the pseudowords from the filenames"
   ]
  },
  {
   "cell_type": "code",
   "execution_count": 4,
   "metadata": {},
   "outputs": [],
   "source": [
    "def extract_pseudowords(filename):\n",
    "    result = filename\n",
    "    if result.startswith('cel_'):\n",
    "        result = result[4:]\n",
    "    result = result.split('_')[0]\n",
    "    return result"
   ]
  },
  {
   "cell_type": "code",
   "execution_count": 5,
   "metadata": {},
   "outputs": [
    {
     "data": {
      "text/html": [
       "<div>\n",
       "<style scoped>\n",
       "    .dataframe tbody tr th:only-of-type {\n",
       "        vertical-align: middle;\n",
       "    }\n",
       "\n",
       "    .dataframe tbody tr th {\n",
       "        vertical-align: top;\n",
       "    }\n",
       "\n",
       "    .dataframe thead th {\n",
       "        text-align: right;\n",
       "    }\n",
       "</style>\n",
       "<table border=\"1\" class=\"dataframe\">\n",
       "  <thead>\n",
       "    <tr style=\"text-align: right;\">\n",
       "      <th></th>\n",
       "      <th>Stimuli</th>\n",
       "      <th>ExperimentalRoundScore</th>\n",
       "    </tr>\n",
       "  </thead>\n",
       "  <tbody>\n",
       "    <tr>\n",
       "      <th>0</th>\n",
       "      <td>bebi</td>\n",
       "      <td>33</td>\n",
       "    </tr>\n",
       "    <tr>\n",
       "      <th>1</th>\n",
       "      <td>bibe</td>\n",
       "      <td>42</td>\n",
       "    </tr>\n",
       "    <tr>\n",
       "      <th>2</th>\n",
       "      <td>bobou</td>\n",
       "      <td>33</td>\n",
       "    </tr>\n",
       "    <tr>\n",
       "      <th>3</th>\n",
       "      <td>boubo</td>\n",
       "      <td>50</td>\n",
       "    </tr>\n",
       "    <tr>\n",
       "      <th>4</th>\n",
       "      <td>chechi</td>\n",
       "      <td>-25</td>\n",
       "    </tr>\n",
       "    <tr>\n",
       "      <th>...</th>\n",
       "      <td>...</td>\n",
       "      <td>...</td>\n",
       "    </tr>\n",
       "    <tr>\n",
       "      <th>119</th>\n",
       "      <td>outou</td>\n",
       "      <td>-10</td>\n",
       "    </tr>\n",
       "    <tr>\n",
       "      <th>120</th>\n",
       "      <td>uku</td>\n",
       "      <td>-20</td>\n",
       "    </tr>\n",
       "    <tr>\n",
       "      <th>121</th>\n",
       "      <td>ulu</td>\n",
       "      <td>42</td>\n",
       "    </tr>\n",
       "    <tr>\n",
       "      <th>122</th>\n",
       "      <td>umu</td>\n",
       "      <td>42</td>\n",
       "    </tr>\n",
       "    <tr>\n",
       "      <th>123</th>\n",
       "      <td>utu</td>\n",
       "      <td>-20</td>\n",
       "    </tr>\n",
       "  </tbody>\n",
       "</table>\n",
       "<p>124 rows × 2 columns</p>\n",
       "</div>"
      ],
      "text/plain": [
       "    Stimuli  ExperimentalRoundScore\n",
       "0      bebi                      33\n",
       "1      bibe                      42\n",
       "2     bobou                      33\n",
       "3     boubo                      50\n",
       "4    chechi                     -25\n",
       "..      ...                     ...\n",
       "119   outou                     -10\n",
       "120     uku                     -20\n",
       "121     ulu                      42\n",
       "122     umu                      42\n",
       "123     utu                     -20\n",
       "\n",
       "[124 rows x 2 columns]"
      ]
     },
     "execution_count": 5,
     "metadata": {},
     "output_type": "execute_result"
    }
   ],
   "source": [
    "data['Stimuli'] = data['Stimuli'].apply(extract_pseudowords)\n",
    "data"
   ]
  },
  {
   "cell_type": "markdown",
   "metadata": {},
   "source": [
    "calculating the total score, then calculating the number of appearances of each character, then calculating the average roundness score of each character"
   ]
  },
  {
   "cell_type": "code",
   "execution_count": 6,
   "metadata": {},
   "outputs": [
    {
     "data": {
      "text/plain": [
       "[('b', 33), ('e', 33), ('b', 33), ('i', 33)]"
      ]
     },
     "execution_count": 6,
     "metadata": {},
     "output_type": "execute_result"
    }
   ],
   "source": [
    "words = data['Stimuli']\n",
    "roundness_values = data['ExperimentalRoundScore']\n",
    "\n",
    "# Create a list to hold tuples of (character, roundness_value)\n",
    "characters_and_scores = []\n",
    "\n",
    "for word, score in zip(words, roundness_values):\n",
    "    # Split the word into characters\n",
    "    chars = list(word.lower())  # Assuming case-insensitive\n",
    "    for char, s in zip(chars, [score] * len(chars)):\n",
    "        characters_and_scores.append((char, s))\n",
    "\n",
    "# show the first word 'bebi' to make sure the processing is correct\n",
    "characters_and_scores[:4]"
   ]
  },
  {
   "cell_type": "code",
   "execution_count": 7,
   "metadata": {},
   "outputs": [
    {
     "data": {
      "text/plain": [
       "{'b': 39.5,\n",
       " 'e': 0.07,\n",
       " 'i': 0.14,\n",
       " 'o': 21.86,\n",
       " 'u': 16.16,\n",
       " 'c': 16.75,\n",
       " 'h': 16.75,\n",
       " 'd': 14.5,\n",
       " 'f': 4.25,\n",
       " 'g': 18.75,\n",
       " 'j': 12.5,\n",
       " 'k': -18.79,\n",
       " 'l': 39.77,\n",
       " 'm': 39.17,\n",
       " 'n': 15.0,\n",
       " 'p': 8.67,\n",
       " 's': 14.5,\n",
       " 't': -17.85,\n",
       " 'v': 3.0,\n",
       " 'z': -31.5,\n",
       " 'a': 10.6}"
      ]
     },
     "execution_count": 7,
     "metadata": {},
     "output_type": "execute_result"
    }
   ],
   "source": [
    "total_score = {}\n",
    "for char, score in characters_and_scores:\n",
    "    if char in total_score:\n",
    "        total_score[char] += score\n",
    "    else:\n",
    "        total_score[char] = score\n",
    "\n",
    "\n",
    "# Count occurrences of each character\n",
    "counts = {}\n",
    "for char, _ in characters_and_scores:\n",
    "    if char in counts:\n",
    "        counts[char] += 1\n",
    "    else:\n",
    "        counts[char] = 1\n",
    "\n",
    "# Calculate average per character\n",
    "average_roundness = {char: round(\n",
    "    total_score[char] / counts[char], 2) for char in total_score}\n",
    "\n",
    "average_roundness"
   ]
  },
  {
   "cell_type": "markdown",
   "metadata": {},
   "source": [
    "normalizing the character scores"
   ]
  },
  {
   "cell_type": "code",
   "execution_count": 8,
   "metadata": {},
   "outputs": [
    {
     "name": "stdout",
     "output_type": "stream",
     "text": [
      "Largest value: 39.77\n",
      "Smallest value: -31.5\n"
     ]
    }
   ],
   "source": [
    "max_value = max(average_roundness.values())\n",
    "min_value = min(average_roundness.values())\n",
    "\n",
    "print(f\"Largest value: {max_value}\")\n",
    "print(f\"Smallest value: {min_value}\")"
   ]
  },
  {
   "cell_type": "code",
   "execution_count": 9,
   "metadata": {},
   "outputs": [
    {
     "data": {
      "text/plain": [
       "{'b': 0.9962115897291987,\n",
       " 'e': 0.4429633787007155,\n",
       " 'i': 0.44394555914129363,\n",
       " 'o': 0.7487021187035217,\n",
       " 'u': 0.6687245685421634,\n",
       " 'c': 0.6770029465413216,\n",
       " 'h': 0.6770029465413216,\n",
       " 'd': 0.6454328609513118,\n",
       " 'f': 0.5016135821523782,\n",
       " 'g': 0.7050652448435526,\n",
       " 'j': 0.6173705626490809,\n",
       " 'k': 0.1783359057106777,\n",
       " 'l': 1.0,\n",
       " 'm': 0.9915813105093306,\n",
       " 'n': 0.6524484355268696,\n",
       " 'p': 0.5636312614003086,\n",
       " 's': 0.6454328609513118,\n",
       " 't': 0.19152518591272621,\n",
       " 'v': 0.48407464571348385,\n",
       " 'z': 0.0,\n",
       " 'a': 0.5907113792619615}"
      ]
     },
     "execution_count": 9,
     "metadata": {},
     "output_type": "execute_result"
    }
   ],
   "source": [
    "normalized_scores = {}\n",
    "for key, value in average_roundness.items():\n",
    "    normalized_value = (value - min_value) / (max_value - min_value)\n",
    "    normalized_scores[key] = normalized_value\n",
    "\n",
    "normalized_scores"
   ]
  },
  {
   "cell_type": "markdown",
   "metadata": {},
   "source": [
    "EDA"
   ]
  },
  {
   "cell_type": "code",
   "execution_count": 10,
   "metadata": {},
   "outputs": [
    {
     "name": "stdout",
     "output_type": "stream",
     "text": [
      "Length of the dictionary: 21\n",
      "Missing characters: {'r', 'y', 'q', 'x', 'w'}\n",
      "Average roundness of all chars: 0.5915131592134537\n"
     ]
    }
   ],
   "source": [
    "import string\n",
    "\n",
    "length = len(normalized_scores)\n",
    "print(f\"Length of the dictionary: {length}\")\n",
    "\n",
    "# Example code to find missing characters (assuming all possible letters are 'a' to 'z')\n",
    "all_letters = set(string.ascii_lowercase)\n",
    "missing = all_letters - normalized_scores.keys()\n",
    "if not missing:\n",
    "    print(\"All characters present in 'a' to 'z'.\")\n",
    "else:\n",
    "    print(f\"Missing characters: {missing}\")\n",
    "    \n",
    "values = list(normalized_scores.values())\n",
    "average = sum(values) / len(values)\n",
    "print(f\"Average roundness of all chars: {average}\")"
   ]
  },
  {
   "cell_type": "code",
   "execution_count": 11,
   "metadata": {},
   "outputs": [
    {
     "data": {
      "image/png": "[encoded data removed]",
      "text/plain": [
       "<Figure size 1000x600 with 1 Axes>"
      ]
     },
     "metadata": {},
     "output_type": "display_data"
    }
   ],
   "source": [
    "import matplotlib.pyplot as plt\n",
    "\n",
    "# Sort the dictionary by value\n",
    "sorted_normalized_scores = dict(sorted(normalized_scores.items(), key=lambda item: item[1]))\n",
    "\n",
    "plt.figure(figsize=(10, 6))\n",
    "plt.bar(sorted_normalized_scores.keys(), sorted_normalized_scores.values())\n",
    "plt.xlabel('Character')\n",
    "plt.ylabel('Score')\n",
    "plt.title('Scores for Each Character')\n",
    "plt.xticks(rotation=45)  # Rotate x-labels for clarity\n",
    "plt.show()"
   ]
  },
  {
   "cell_type": "code",
   "execution_count": 12,
   "metadata": {},
   "outputs": [
    {
     "name": "stdout",
     "output_type": "stream",
     "text": [
      "Median score: 0.6454328609513118\n",
      "Mean: 0.5915131592134537\n",
      "Variance: 0.06209115069907679\n",
      "Standard Deviation: 0.24918095974427257\n"
     ]
    }
   ],
   "source": [
    "import numpy as np\n",
    "sorted_values = sorted(normalized_scores.values())\n",
    "n = len(sorted_values)\n",
    "if n % 2 == 1:\n",
    "    median = sorted_values[n // 2]\n",
    "else:\n",
    "    median = (sorted_values[n // 2 - 1] + sorted_values[n // 2]) / 2\n",
    "print(f\"Median score: {median}\")\n",
    "\n",
    "scores_array = list(normalized_scores.values())\n",
    "mean = np.mean(scores_array)\n",
    "variance = np.var(scores_array)\n",
    "std_dev = np.std(scores_array)\n",
    "\n",
    "print(f\"Mean: {mean}\")\n",
    "print(f\"Variance: {variance}\")\n",
    "print(f\"Standard Deviation: {std_dev}\")"
   ]
  },
  {
   "cell_type": "markdown",
   "metadata": {},
   "source": [
    "splitting into vowels and consonants"
   ]
  },
  {
   "cell_type": "code",
   "execution_count": 13,
   "metadata": {},
   "outputs": [],
   "source": [
    "consonants = {key: value for key, value in normalized_scores.items() if key not in 'aeiou'}\n",
    "vowels = {key: value for key, value in normalized_scores.items() if key in 'aeiou'}"
   ]
  },
  {
   "cell_type": "markdown",
   "metadata": {},
   "source": [
    "saving into json"
   ]
  },
  {
   "cell_type": "code",
   "execution_count": 14,
   "metadata": {},
   "outputs": [
    {
     "data": {
      "text/plain": [
       "{'consonants': {'b': 0.9962115897291987,\n",
       "  'c': 0.6770029465413216,\n",
       "  'h': 0.6770029465413216,\n",
       "  'd': 0.6454328609513118,\n",
       "  'f': 0.5016135821523782,\n",
       "  'g': 0.7050652448435526,\n",
       "  'j': 0.6173705626490809,\n",
       "  'k': 0.1783359057106777,\n",
       "  'l': 1.0,\n",
       "  'm': 0.9915813105093306,\n",
       "  'n': 0.6524484355268696,\n",
       "  'p': 0.5636312614003086,\n",
       "  's': 0.6454328609513118,\n",
       "  't': 0.19152518591272621,\n",
       "  'v': 0.48407464571348385,\n",
       "  'z': 0.0},\n",
       " 'vowels': {'e': 0.4429633787007155,\n",
       "  'i': 0.44394555914129363,\n",
       "  'o': 0.7487021187035217,\n",
       "  'u': 0.6687245685421634,\n",
       "  'a': 0.5907113792619615}}"
      ]
     },
     "execution_count": 14,
     "metadata": {},
     "output_type": "execute_result"
    }
   ],
   "source": [
    "sound_mapping = {\"consonants\": consonants, \"vowels\": vowels}\n",
    "sound_mapping"
   ]
  },
  {
   "cell_type": "code",
   "execution_count": 15,
   "metadata": {},
   "outputs": [],
   "source": [
    "import json\n",
    "\n",
    "json.dump(\n",
    "    sound_mapping,\n",
    "    open(r'F:\\OneDrive - Nanyang Technological University\\FYP\\Pseudoword-Generator\\datasets\\sound_mappings.json', 'w'),\n",
    "    indent=4,\n",
    "    sort_keys=True,\n",
    "    ensure_ascii=True\n",
    ")"
   ]
  }
 ],
 "metadata": {
  "kernelspec": {
   "display_name": "pseudoword",
   "language": "python",
   "name": "python3"
  },
  "language_info": {
   "codemirror_mode": {
    "name": "ipython",
    "version": 3
   },
   "file_extension": ".py",
   "mimetype": "text/x-python",
   "name": "python",
   "nbconvert_exporter": "python",
   "pygments_lexer": "ipython3",
   "version": "3.12.8"
  }
 },
 "nbformat": 4,
 "nbformat_minor": 2
}
